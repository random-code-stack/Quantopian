{
 "cells": [
  {
   "cell_type": "code",
   "execution_count": 3,
   "metadata": {},
   "outputs": [],
   "source": [
    "#Step #1 - Importing libraries\n",
    "import pandas as pd\n",
    "import numpy as np\n",
    "import matplotlib.pyplot as plt"
   ]
  },
  {
   "cell_type": "code",
   "execution_count": 4,
   "metadata": {},
   "outputs": [],
   "source": [
    "#Step #2A - Importing Data\n",
    "start = '2020-03-17'\n",
    "end = '2020-09-11'\n",
    "asset = get_pricing('SPY', fields='price', start_date=start, end_date=end)\n",
    "z = asset[:len(asset)]\n",
    "x=range(1,len(z.index)+1)"
   ]
  },
  {
   "cell_type": "code",
   "execution_count": 5,
   "metadata": {},
   "outputs": [
    {
     "name": "stdout",
     "output_type": "stream",
     "text": [
      "                           Number  Pricing\n",
      "2020-03-17 00:00:00+00:00       1  251.601\n",
      "2020-03-18 00:00:00+00:00       2  238.555\n",
      "2020-03-19 00:00:00+00:00       3  238.704\n",
      "2020-03-20 00:00:00+00:00       4  227.947\n",
      "2020-03-23 00:00:00+00:00       5  221.535\n"
     ]
    }
   ],
   "source": [
    "df = pd.DataFrame({'Number':x, 'Pricing': z}, columns=['Number', 'Pricing'])\n",
    "print(df.head())"
   ]
  },
  {
   "cell_type": "code",
   "execution_count": 6,
   "metadata": {},
   "outputs": [],
   "source": [
    "from quantopian.pipeline import Pipeline, CustomFactor\n",
    "from quantopian.pipeline.data.factset import Fundamentals\n",
    "from quantopian.pipeline.data import EquityPricing\n",
    "from quantopian.research import run_pipeline\n",
    "import matplotlib.pyplot as plt\n",
    "from quantopian.pipeline import Pipeline\n",
    "from quantopian.pipeline.data.morningstar import Fundamentals\n",
    "from quantopian.pipeline.domain import US_EQUITIES\n",
    "from quantopian.research import run_pipeline\n",
    "\n",
    "\n",
    "#Step 3 - Create All of Our Functions\n",
    "def xbar(self):\n",
    "    x_bar = sum(self)/len(self)\n",
    "    return x_bar\n",
    "\n",
    "def ybar(self):    \n",
    "    y_bar = sum(self)/len(self)\n",
    "    return y_bar\n",
    "\n",
    "def Sxx(self):\n",
    "    calc1 = []\n",
    "    for z in x:\n",
    "        i = z-1\n",
    "        calc1.append(self[i]**2)\n",
    "    calc_xi = sum(calc1)\n",
    "    calc_2 = sum(self)**2/len(self)\n",
    "    S_xx =  calc_xi - calc_2\n",
    "    return S_xx\n",
    "\n",
    "def Sxy(xi, yi):\n",
    "    sum_xy = []\n",
    "    for z in x:\n",
    "        i = z-1\n",
    "        sum_xy.append(xi[i]*yi[i])\n",
    "    calc1 = sum(sum_xy)\n",
    "    \n",
    "    sum_xi = sum(xi)\n",
    "    sum_yi = sum(yi)\n",
    "    S_xy = calc1 - sum_xi*sum_yi/len(xi)\n",
    "    return S_xy\n",
    "\n",
    "def B0_B1(x_bar, y_bar, S_xx, S_xy):\n",
    "    B_1 = S_xy/S_xx\n",
    "    B_0 = y_bar-B_1*x_bar\n",
    "    return B_0, B_1\n",
    "\n",
    "#Step 4 - Linear Regression Plot\n",
    "def lin_regression_plot(hydrocarbon_level, purity_percent, B0, B1):\n",
    "    x_lower = np.int(round(min(hydrocarbon_level)*100))\n",
    "    x_upper = np.int(round(max(hydrocarbon_level)*100))\n",
    "    x_range = range(x_lower, x_upper)\n",
    "    myInt = 100\n",
    "    x_range2 = [x / myInt for x in x_range] \n",
    "    y_range = []\n",
    "    for item in x_range2:\n",
    "        y = B0 + B1*item\n",
    "        y_range.append(y)\n",
    "    plt.plot(x_range2,y_range, label='lin regress', color='r')\n",
    "    plt.scatter(hydrocarbon_level, purity_percent, label='points')\n",
    "    plt.legend(loc='upper left')\n",
    "    plt.title('Simple Linear Regression')\n",
    "    \n",
    "#altered variable to avoid global scope\n",
    "def variance(xi, yi, B0, B1_, sxy_):\n",
    "    SS_e = []\n",
    "    for z in x:\n",
    "        i = z-1 \n",
    "        yh = B0 + B1*xi[i]\n",
    "        SS_e.append((yi[i]-yh)**2)       \n",
    "        SS_E = sum(SS_e) #residual error\n",
    "        variance = SS_E/(len(yi)-2)\n",
    "#    return SS_E, variance\n",
    "    return SS_E, variance\n",
    "\n",
    "#Step #6 - Prediction\n",
    "#parameters x_extend = percent written between 0 and 1\n",
    "def lin_regression_prediction(x_var, y_var, B0, B1, x_extend):\n",
    "    x_lower = np.int(round(min(x_var)*100))\n",
    "    x_upper = np.int(round(max(x_var)*100))\n",
    "    x_range = range(x_lower, x_upper)\n",
    "    \n",
    "    myInt = 100\n",
    "    #list comprehension cannot iterate over decimals\n",
    "    x_range2 = [x / myInt for x in x_range] \n",
    "    y_range = []\n",
    "    for item in x_range2:\n",
    "        y = B0 + B1*item\n",
    "        y_range.append(y)    \n",
    "    \n",
    "    x_pred_lower = x_upper\n",
    "    x_pred_upper = np.int(((x_upper - x_lower)* x_extend)+x_pred_lower)\n",
    "    x_range_predicted = range(x_pred_lower, x_pred_upper)\n",
    "    \n",
    "    #list comprehension cannot iterate over decimals, divide each entry by 100\n",
    "    x_range_predicted_2 = [z / myInt for z in x_range_predicted] \n",
    "    y_range_predicted = []\n",
    "    for item in x_range_predicted_2:\n",
    "        y = B0 + B1*item\n",
    "        y_range_predicted.append(y)    \n",
    "    \n",
    "    plt.plot(x_range2,y_range, label='lin regress', color='r')\n",
    "    plt.plot(x_range_predicted_2, y_range_predicted, label='prediction', color='b' )\n",
    "    plt.scatter(x_var, y_var, label='points')\n",
    "    plt.legend(loc='upper left')\n",
    "    plt.title('Simple Linear Regression')"
   ]
  },
  {
   "cell_type": "code",
   "execution_count": 7,
   "metadata": {},
   "outputs": [],
   "source": [
    "x_bar = xbar(x)\n",
    "y_bar = ybar(z)\n",
    "S_xx = Sxx(x)\n",
    "S_xy = Sxy(x, z)\n",
    "B0,B1 = B0_B1(x_bar, y_bar, S_xx, S_xy)\n",
    "#Returns sum of errors, and variance\n",
    "SSE, sigma_var = variance(x, z, B0, B1, S_xy)"
   ]
  },
  {
   "cell_type": "code",
   "execution_count": 8,
   "metadata": {},
   "outputs": [
    {
     "name": "stdout",
     "output_type": "stream",
     "text": [
      "Beta_0 ----- 253.57190296774195: \n",
      "Beta_1 (slope) ----- 0.7952897941628256: \n",
      "x_bar (Arithmetic Mean)----- 63.0\n",
      "y_bar (Arithmetic Mean)----- 303.67515999999995\n",
      "SSE (Sum of Squares)----- 9599.85291494811\n",
      "Sigma (Variance) ----- 78.04758467437487\n"
     ]
    }
   ],
   "source": [
    "#Step #5 - Create Our TearSheet\n",
    "print 'Beta_0 ----- {}: '.format(B0)\n",
    "print 'Beta_1 (slope) ----- {}: '.format(B1)\n",
    "print 'x_bar (Arithmetic Mean)----- {}'.format(x_bar)\n",
    "print 'y_bar (Arithmetic Mean)----- {}'.format(y_bar)\n",
    "print 'SSE (Sum of Squares)----- {}'.format(SSE)\n",
    "print 'Sigma (Variance) ----- {}'.format(sigma_var)"
   ]
  },
  {
   "cell_type": "code",
   "execution_count": 9,
   "metadata": {},
   "outputs": [
    {
     "data": {
      "image/png": "[encoded data removed]",
      "text/plain": [
       "<matplotlib.figure.Figure at 0x7fc149998630>"
      ]
     },
     "metadata": {},
     "output_type": "display_data"
    }
   ],
   "source": [
    "lin_regression_prediction(x, z, B0, B1, 0.25)"
   ]
  },
  {
   "cell_type": "code",
   "execution_count": 33,
   "metadata": {},
   "outputs": [],
   "source": []
  },
  {
   "cell_type": "code",
   "execution_count": null,
   "metadata": {},
   "outputs": [],
   "source": []
  }
 ],
 "metadata": {
  "kernelspec": {
   "display_name": "Python 3.5",
   "language": "python",
   "name": "py35"
  },
  "language_info": {
   "codemirror_mode": {
    "name": "ipython",
    "version": 3
   },
   "file_extension": ".py",
   "mimetype": "text/x-python",
   "name": "python",
   "nbconvert_exporter": "python",
   "pygments_lexer": "ipython3",
   "version": "3.5.9"
  }
 },
 "nbformat": 4,
 "nbformat_minor": 2
}